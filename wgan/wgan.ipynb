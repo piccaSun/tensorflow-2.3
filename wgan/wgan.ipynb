{
 "cells": [
  {
   "cell_type": "code",
   "execution_count": 3,
   "metadata": {},
   "outputs": [
    {
     "name": "stderr",
     "output_type": "stream",
     "text": [
      "C:\\Users\\picca\\anaconda3\\envs\\tensor2_GAN_picca\\lib\\site-packages\\tqdm\\auto.py:22: TqdmWarning: IProgress not found. Please update jupyter and ipywidgets. See https://ipywidgets.readthedocs.io/en/stable/user_install.html\n",
      "  from .autonotebook import tqdm as notebook_tqdm\n"
     ]
    }
   ],
   "source": [
    "import tensorflow as tf\n",
    "from tensorflow.keras import layers, Model\n",
    "from tensorflow.keras.activations import relu\n",
    "from tensorflow.keras.models import Sequential, load_model\n",
    "from tensorflow.keras.callbacks import ModelCheckpoint, EarlyStopping\n",
    "from tensorflow.keras.losses import BinaryCrossentropy\n",
    "from tensorflow.keras.optimizers import RMSprop, Adam\n",
    "from tensorflow.keras.metrics import binary_accuracy\n",
    "\n",
    "import tensorflow_datasets as tfds\n",
    "\n",
    "import numpy as np\n",
    "import matplotlib.pyplot as plt\n",
    "\n",
    "import warnings\n",
    "warnings.filterwarnings('ignore')"
   ]
  },
  {
   "cell_type": "code",
   "execution_count": 4,
   "metadata": {},
   "outputs": [
    {
     "data": {
      "image/png": "[encoded data removed]",
      "text/plain": [
       "<Figure size 648x648 with 9 Axes>"
      ]
     },
     "metadata": {},
     "output_type": "display_data"
    }
   ],
   "source": [
    "ds_train, ds_info = tfds.load('fashion_mnist', split= 'train', shuffle_files=True, with_info=True)\n",
    "fig= tfds.show_examples(ds_train, ds_info)\n",
    "batch_size = 64\n",
    "image_shape = (32, 32, 1)"
   ]
  },
  {
   "cell_type": "code",
   "execution_count": 5,
   "metadata": {},
   "outputs": [],
   "source": [
    "def preprocess(features):\n",
    "    image = tf.image.resize(features['image'], image_shape[:2]) # [:2] h*W [:3] h*W*v\n",
    "    image = tf.cast(image, tf.float32)\n",
    "    image = (image-127.5) / 127.5\n",
    "    return image"
   ]
  },
  {
   "cell_type": "code",
   "execution_count": 6,
   "metadata": {},
   "outputs": [],
   "source": [
    "ds_train = ds_train.map(preprocess)\n",
    "ds_train = ds_train.shuffle(ds_info.splits['train'].num_examples)\n",
    "ds_train = ds_train.batch(batch_size, drop_remainder=True).repeat()"
   ]
  },
  {
   "cell_type": "code",
   "execution_count": 7,
   "metadata": {},
   "outputs": [],
   "source": [
    "# print(ds_info)\n",
    "# print(ds_info.splits['train'])\n",
    "train_num = ds_info.splits['train'].num_examples"
   ]
  },
  {
   "cell_type": "code",
   "execution_count": 8,
   "metadata": {},
   "outputs": [
    {
     "name": "stdout",
     "output_type": "stream",
     "text": [
      "938\n"
     ]
    }
   ],
   "source": [
    "train_steps_per_epoch = round(train_num/batch_size)\n",
    "print(train_steps_per_epoch)"
   ]
  },
  {
   "cell_type": "code",
   "execution_count": 9,
   "metadata": {},
   "outputs": [],
   "source": [
    "\"\"\" \n",
    "WGAN \n",
    "\"\"\"\n",
    "class WGAN():\n",
    "    def __init__(self, input_shape):\n",
    "        self.z_dim = 128\n",
    "        self.input_shape = input_shape\n",
    "\n",
    "        # losses\n",
    "        self.loss_critic_real = {}\n",
    "        self.loss_critic_fake = {}\n",
    "        self.loss_critic = {}\n",
    "        self.loss_generator = {}\n",
    "\n",
    "        # critic\n",
    "        self.n_critic = 5\n",
    "        self.critic = self.build_critic()\n",
    "        self.critic.trainable = False\n",
    "        self.optimizer_critic =  RMSprop(5e-5)\n",
    "\n",
    "        # build generator pipeline  with frozen critic\n",
    "        self.generator = self.build_generator()\n",
    "        critic_output = self.critic(self.generator.output)\n",
    "        self.model = Model(self.generator.input, critic_output)\n",
    "        self.model.compile(loss=self.wasserstein_loss, optimizer=RMSprop(5e-5))\n",
    "        self.critic.trainable = True\n",
    "\n",
    "    def wasserstein_loss(self, y_true, y_pred):\n",
    "        w_loss = -tf.reduce_mean(y_true*y_pred)\n",
    "        return w_loss\n",
    "\n",
    "    # generator model\n",
    "    def buid_generator(self):\n",
    "        DIM = 128\n",
    "        model = tf.keras.Sequential(name= 'Generator')\n",
    "\n",
    "        model.add(layers.Input(shape=[self.z_dim]))\n",
    "\n",
    "        model.add(layers.Dense(4*4*4*DIM))\n",
    "        model.add(layers.BatchNormalization())\n",
    "        model.add(layers.ReLU())\n",
    "        model.add(layers.Reshape(4, 4, 4*DIM))\n",
    "\n",
    "        model.add(layers.UpSampling2D((2,2), interpolation=\"bilinerar\"))\n",
    "        model.add(layers.Conv2D(2*DIM, 5, padding='same'))\n",
    "        model.add(layers.BatchNormalization())\n",
    "        model.add(layers.ReLU())\n",
    "\n",
    "        model.add(layers.UpSampling2D((2,2), interpolation=\"bilinerar\"))\n",
    "        model.add(layers.Conv2D(DIM, 5, padding='same'))\n",
    "        model.add(layers.BatchNormalization())\n",
    "        model.add(layers.ReLU())\n",
    "\n",
    "        model.add(layers.UpSampling2D((2, 2), interpolation=\"bilinerar\"))\n",
    "        model.add(layers.Conv2D(image_shape[-1], 5, padding='same', activation='tanh'))\n",
    "        return model\n",
    "\n",
    "    # critic model/descriminator model\n",
    "    def build_critic(self):\n",
    "        DIM = 128\n",
    "        model = tf.keras.Sequential(name= 'critics')\n",
    "        \n",
    "        model.add(layers.Input(shape=self.input_shape))\n",
    "\n",
    "        model.add(layers.Conv2D(1*DIM, 5, strides=2, padding='same'))\n",
    "        model.add(layers.LeakyReLU(0.2))\n",
    "\n",
    "        model.add(layers.Conv2D(2*DIM, 5, strides=2, padding='same'))\n",
    "        model.add(layers.BatchNormalization())\n",
    "        model.add(layers.LeakyReLU(0.2))\n",
    "\n",
    "        model.add(layers.Conv2D(4*DIM, 5, strides=2, padding='same'))\n",
    "        model.add(layers.BatchNormalization())\n",
    "        model.add(layers.LeakyReLU(0.2))\n",
    "\n",
    "        model.add(layers.Flatten())\n",
    "        model.add(layers.Dense(1))\n",
    "\n",
    "        return model\n",
    "\n",
    "\n",
    "\n",
    "\n",
    "\n",
    "\n",
    "\n",
    "\n",
    "          "
   ]
  },
  {
   "cell_type": "markdown",
   "metadata": {},
   "source": []
  }
 ],
 "metadata": {
  "interpreter": {
   "hash": "5e703c96f714cbab570c3178e6f6ccfe0ed8e357ce3f23b9b4f3a22cfc6f5b0e"
  },
  "kernelspec": {
   "display_name": "Python 3.7.13 ('pytorch')",
   "language": "python",
   "name": "python3"
  },
  "language_info": {
   "codemirror_mode": {
    "name": "ipython",
    "version": 3
   },
   "file_extension": ".py",
   "mimetype": "text/x-python",
   "name": "python",
   "nbconvert_exporter": "python",
   "pygments_lexer": "ipython3",
   "version": "3.7.13"
  },
  "orig_nbformat": 4
 },
 "nbformat": 4,
 "nbformat_minor": 2
}
